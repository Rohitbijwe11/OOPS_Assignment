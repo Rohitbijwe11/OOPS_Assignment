{
 "cells": [
  {
   "cell_type": "code",
   "execution_count": null,
   "id": "9da1629f-ef56-4940-aac8-f22d8ffab04b",
   "metadata": {},
   "outputs": [],
   "source": [
    "'''Q1=In object-oriented programming (OOP),\n",
    "a class is a blueprint or a template for creating objects that define a set of attributes and methods that are common to all instances of that class\n",
    "\n",
    "For example, let's consider a class called Car which represents a generic car.\n",
    "This class can have attributes such as model, year, color, mileage, etc.\n",
    "\n",
    "'''"
   ]
  },
  {
   "cell_type": "code",
   "execution_count": null,
   "id": "fa60bfbc-5570-4280-9fcd-9cc250ced489",
   "metadata": {},
   "outputs": [],
   "source": [
    "#Q2=\n",
    "Encapsulation,Abstraction,Inheritance,Polymorphism"
   ]
  },
  {
   "cell_type": "code",
   "execution_count": 8,
   "id": "b399247a-8c92-41c2-8891-de1c85e9cf39",
   "metadata": {},
   "outputs": [],
   "source": [
    "#Q3=\n",
    "#In Python, the __init__() function is a special method that is called when an object is created from a class\n",
    "\n",
    "class person:\n",
    "    def __init__(self,name,age,person_id):\n",
    "        self.name=name\n",
    "        self.age=age\n",
    "        self.person_id=person_id\n",
    "    def return_details(self):\n",
    "        print(self.name,self.age,self.person_id)"
   ]
  },
  {
   "cell_type": "code",
   "execution_count": 9,
   "id": "3d347b4f-9ffd-4d5a-810f-31fbd20d5673",
   "metadata": {},
   "outputs": [],
   "source": [
    "rohit=person(\"rohit\",22,102)"
   ]
  },
  {
   "cell_type": "code",
   "execution_count": 10,
   "id": "8dfa73b0-a2d9-495d-8719-853c6adafdb3",
   "metadata": {},
   "outputs": [
    {
     "name": "stdout",
     "output_type": "stream",
     "text": [
      "rohit 22 102\n"
     ]
    }
   ],
   "source": [
    "rohit.return_details()"
   ]
  },
  {
   "cell_type": "code",
   "execution_count": null,
   "id": "467226d3-0375-45d7-beec-00f92f8aeae4",
   "metadata": {},
   "outputs": [],
   "source": [
    "#Q4=\n",
    "''' self is the first parameter of any instance method defined in a class.\n",
    "When a method is called on an object, Python automatically passes a reference to that object as the first argument to the method.\n",
    "By convention, this parameter is named self.'''"
   ]
  },
  {
   "cell_type": "code",
   "execution_count": null,
   "id": "020fd63b-f75e-44cd-9855-0b5bf4e97e58",
   "metadata": {},
   "outputs": [],
   "source": [
    "#Q5="
   ]
  }
 ],
 "metadata": {
  "kernelspec": {
   "display_name": "Python 3 (ipykernel)",
   "language": "python",
   "name": "python3"
  },
  "language_info": {
   "codemirror_mode": {
    "name": "ipython",
    "version": 3
   },
   "file_extension": ".py",
   "mimetype": "text/x-python",
   "name": "python",
   "nbconvert_exporter": "python",
   "pygments_lexer": "ipython3",
   "version": "3.10.8"
  }
 },
 "nbformat": 4,
 "nbformat_minor": 5
}
